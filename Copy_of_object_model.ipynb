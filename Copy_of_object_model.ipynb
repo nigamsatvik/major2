{
  "nbformat": 4,
  "nbformat_minor": 0,
  "metadata": {
    "colab": {
      "name": "Copy of object_model.ipynb",
      "provenance": [],
      "collapsed_sections": [],
      "authorship_tag": "ABX9TyOWg8jHyW41A81JXRfQrbd1",
      "include_colab_link": true
    },
    "kernelspec": {
      "name": "python3",
      "display_name": "Python 3"
    },
    "language_info": {
      "name": "python"
    },
    "accelerator": "GPU"
  },
  "cells": [
    {
      "cell_type": "markdown",
      "metadata": {
        "id": "view-in-github",
        "colab_type": "text"
      },
      "source": [
        "<a href=\"https://colab.research.google.com/github/nigamsatvik/major2/blob/main/Copy_of_object_model.ipynb\" target=\"_parent\"><img src=\"https://colab.research.google.com/assets/colab-badge.svg\" alt=\"Open In Colab\"/></a>"
      ]
    },
    {
      "cell_type": "code",
      "metadata": {
        "colab": {
          "base_uri": "https://localhost:8080/"
        },
        "id": "A0xgQU1s73_X",
        "outputId": "aff7948a-f949-4d48-9b37-c5679f3c80c4"
      },
      "source": [
        "!pip install albumentations"
      ],
      "execution_count": null,
      "outputs": [
        {
          "output_type": "stream",
          "text": [
            "Requirement already satisfied: albumentations in /usr/local/lib/python3.7/dist-packages (0.1.12)\n",
            "Requirement already satisfied: numpy>=1.11.1 in /usr/local/lib/python3.7/dist-packages (from albumentations) (1.19.5)\n",
            "Requirement already satisfied: imgaug<0.2.7,>=0.2.5 in /usr/local/lib/python3.7/dist-packages (from albumentations) (0.2.6)\n",
            "Requirement already satisfied: scipy in /usr/local/lib/python3.7/dist-packages (from albumentations) (1.4.1)\n",
            "Requirement already satisfied: opencv-python in /usr/local/lib/python3.7/dist-packages (from albumentations) (4.1.2.30)\n",
            "Requirement already satisfied: scikit-image>=0.11.0 in /usr/local/lib/python3.7/dist-packages (from imgaug<0.2.7,>=0.2.5->albumentations) (0.16.2)\n",
            "Requirement already satisfied: six in /usr/local/lib/python3.7/dist-packages (from imgaug<0.2.7,>=0.2.5->albumentations) (1.15.0)\n",
            "Requirement already satisfied: imageio>=2.3.0 in /usr/local/lib/python3.7/dist-packages (from scikit-image>=0.11.0->imgaug<0.2.7,>=0.2.5->albumentations) (2.4.1)\n",
            "Requirement already satisfied: matplotlib!=3.0.0,>=2.0.0 in /usr/local/lib/python3.7/dist-packages (from scikit-image>=0.11.0->imgaug<0.2.7,>=0.2.5->albumentations) (3.2.2)\n",
            "Requirement already satisfied: PyWavelets>=0.4.0 in /usr/local/lib/python3.7/dist-packages (from scikit-image>=0.11.0->imgaug<0.2.7,>=0.2.5->albumentations) (1.1.1)\n",
            "Requirement already satisfied: pillow>=4.3.0 in /usr/local/lib/python3.7/dist-packages (from scikit-image>=0.11.0->imgaug<0.2.7,>=0.2.5->albumentations) (7.1.2)\n",
            "Requirement already satisfied: networkx>=2.0 in /usr/local/lib/python3.7/dist-packages (from scikit-image>=0.11.0->imgaug<0.2.7,>=0.2.5->albumentations) (2.5.1)\n",
            "Requirement already satisfied: cycler>=0.10 in /usr/local/lib/python3.7/dist-packages (from matplotlib!=3.0.0,>=2.0.0->scikit-image>=0.11.0->imgaug<0.2.7,>=0.2.5->albumentations) (0.10.0)\n",
            "Requirement already satisfied: python-dateutil>=2.1 in /usr/local/lib/python3.7/dist-packages (from matplotlib!=3.0.0,>=2.0.0->scikit-image>=0.11.0->imgaug<0.2.7,>=0.2.5->albumentations) (2.8.1)\n",
            "Requirement already satisfied: pyparsing!=2.0.4,!=2.1.2,!=2.1.6,>=2.0.1 in /usr/local/lib/python3.7/dist-packages (from matplotlib!=3.0.0,>=2.0.0->scikit-image>=0.11.0->imgaug<0.2.7,>=0.2.5->albumentations) (2.4.7)\n",
            "Requirement already satisfied: kiwisolver>=1.0.1 in /usr/local/lib/python3.7/dist-packages (from matplotlib!=3.0.0,>=2.0.0->scikit-image>=0.11.0->imgaug<0.2.7,>=0.2.5->albumentations) (1.3.1)\n",
            "Requirement already satisfied: decorator<5,>=4.3 in /usr/local/lib/python3.7/dist-packages (from networkx>=2.0->scikit-image>=0.11.0->imgaug<0.2.7,>=0.2.5->albumentations) (4.4.2)\n"
          ],
          "name": "stdout"
        }
      ]
    },
    {
      "cell_type": "code",
      "metadata": {
        "id": "K0J0eia5-PH3"
      },
      "source": [
        "import tensorflow as tf\n",
        "import matplotlib.pyplot as plt\n",
        "from PIL import Image\n",
        "import numpy as np\n",
        "import os\n",
        "from albumentations import RandomRotate90\n",
        "from tensorflow.keras import mixed_precision\n",
        "import gc"
      ],
      "execution_count": null,
      "outputs": []
    },
    {
      "cell_type": "code",
      "metadata": {
        "id": "zj8kn3niOwqb",
        "colab": {
          "base_uri": "https://localhost:8080/"
        },
        "outputId": "bdd6a85d-97b5-4f57-91f3-774546a7f72e"
      },
      "source": [
        "from google.colab import drive\n",
        "drive.mount('/content/drive')"
      ],
      "execution_count": null,
      "outputs": [
        {
          "output_type": "stream",
          "text": [
            "Drive already mounted at /content/drive; to attempt to forcibly remount, call drive.mount(\"/content/drive\", force_remount=True).\n"
          ],
          "name": "stdout"
        }
      ]
    },
    {
      "cell_type": "code",
      "metadata": {
        "id": "zj5Qi8qEPZKC"
      },
      "source": [
        "!cp drive/MyDrive/VOC2012.zip ."
      ],
      "execution_count": null,
      "outputs": []
    },
    {
      "cell_type": "code",
      "metadata": {
        "colab": {
          "base_uri": "https://localhost:8080/"
        },
        "id": "nZLSeEIlZEu7",
        "outputId": "123f81bd-6777-4bdb-b6a1-92850d91aecb"
      },
      "source": [
        "!unzip VOC2012.zip"
      ],
      "execution_count": null,
      "outputs": [
        {
          "output_type": "stream",
          "text": [
            "Archive:  VOC2012.zip\n",
            "replace VOC2012/Annotations/2007_000027.xml? [y]es, [n]o, [A]ll, [N]one, [r]ename: n\n",
            "replace VOC2012/Annotations/2007_000032.xml? [y]es, [n]o, [A]ll, [N]one, [r]ename: a\n",
            "error:  invalid response [a]\n",
            "replace VOC2012/Annotations/2007_000032.xml? [y]es, [n]o, [A]ll, [N]one, [r]ename: NO\n",
            "no\n"
          ],
          "name": "stdout"
        }
      ]
    },
    {
      "cell_type": "code",
      "metadata": {
        "id": "Q0eU3tuh-X1h"
      },
      "source": [
        "def Read_Data(path,is_train = True):\n",
        "  temp = []\n",
        "  updated_path = os.path.join(path,\"VOC2012\",\"ImageSets\",\"Segmentation\",\"train.txt\" if is_train else \"val.txt\")\n",
        "  with open(updated_path,\"r\") as file_:\n",
        "    Instances = file_.read().split()\n",
        "    for img in Instances:\n",
        "      path_img = os.path.join(path,\"VOC2012\",\"JPEGImages\",img+\".jpg\")\n",
        "      path_label = os.path.join(path,\"VOC2012\",\"SegmentationClass\",img+\".png\")\n",
        "      temp.append([path_img,path_label])\n",
        "  return temp"
      ],
      "execution_count": null,
      "outputs": []
    },
    {
      "cell_type": "code",
      "metadata": {
        "id": "dhrxZ45X-d2s"
      },
      "source": [
        "path = \"\"\n",
        "Train = Read_Data(path=path,is_train=True)\n",
        "Val=Read_Data(path=path,is_train=True)"
      ],
      "execution_count": null,
      "outputs": []
    },
    {
      "cell_type": "code",
      "metadata": {
        "id": "9O3u5kMC-eo2",
        "colab": {
          "base_uri": "https://localhost:8080/"
        },
        "outputId": "7d3ce4db-4e7f-43a3-ae64-44d64b72c5a1"
      },
      "source": [
        "num_classes = 21\n",
        "Img_Width,Img_Height = 224,224\n",
        "Train = tf.data.Dataset.from_tensor_slices(Train)\n",
        "Val = tf.data.Dataset.from_tensor_slices(Val)\n",
        "mixed_precision.set_global_policy('mixed_float16')"
      ],
      "execution_count": null,
      "outputs": [
        {
          "output_type": "stream",
          "text": [
            "INFO:tensorflow:Mixed precision compatibility check (mixed_float16): OK\n",
            "Your GPU will likely run quickly with dtype policy mixed_float16 as it has compute capability of at least 7.0. Your GPU: Tesla T4, compute capability 7.5\n"
          ],
          "name": "stdout"
        }
      ]
    },
    {
      "cell_type": "code",
      "metadata": {
        "id": "3lUvz1TR-kbO"
      },
      "source": [
        "def Create_Mask(Img):\n",
        "  Seg_Labels = np.zeros((Img.shape[0],Img.shape[1],num_classes),dtype=np.float16)\n",
        "  for class_ in range(num_classes):\n",
        "    Seg_Labels[:,:,class_] = (Img == class_)\n",
        "  return tf.cast(Seg_Labels,dtype=tf.float16)"
      ],
      "execution_count": null,
      "outputs": []
    },
    {
      "cell_type": "code",
      "metadata": {
        "id": "oJzsYABi-nPf"
      },
      "source": [
        "def Create_PreProcess_Mask_Img(Instance):\n",
        " \n",
        "  Img = Image.open(Instance[0].numpy())\n",
        "  Img = Img.resize((Img_Width,Img_Height),resample = Image.BILINEAR)\n",
        "  Img = np.asarray(Img)\n",
        "\n",
        "  Mask = Image.open(Instance[1].numpy())\n",
        "  Mask = Mask.resize((Img_Width,Img_Height),resample = Image.BILINEAR)\n",
        "  Mask = np.asarray(Mask)   \n",
        "\n",
        "  Normalization = tf.keras.layers.experimental.preprocessing.Rescaling(1./255)\n",
        "\n",
        "  if tf.random.uniform(()) > 0.5:  # Applying data Augmentation\n",
        "    aug = RandomRotate90(p=0.5)\n",
        "    Augmented = aug(image = Img,mask = Mask)\n",
        "\n",
        "    Img = Augmented[\"image\"]\n",
        "    Mask = Augmented[\"mask\"]\n",
        "  \n",
        "  return Normalization(Img),Create_Mask(Mask)\n",
        "def Preprocess(Instance):\n",
        "  Img,Mask = tf.py_function(Create_PreProcess_Mask_Img,[Instance],[tf.float16,tf.float16])\n",
        "  return tf.ensure_shape(Img,[None,None,3]),tf.ensure_shape(Mask,[None,None,num_classes]) "
      ],
      "execution_count": null,
      "outputs": []
    },
    {
      "cell_type": "code",
      "metadata": {
        "id": "L2RSA7F2-xJO"
      },
      "source": [
        "def DataLoader(dataset,BATCH_SIZE = 2,BUFFER_SIZE = 2):\n",
        "  data = dataset.map(Preprocess,num_parallel_calls = tf.data.AUTOTUNE)\n",
        "  data = data.cache().shuffle(BUFFER_SIZE).batch(BATCH_SIZE).repeat(1)\n",
        "  data = data.prefetch(buffer_size = tf.data.AUTOTUNE)\n",
        "  return data"
      ],
      "execution_count": null,
      "outputs": []
    },
    {
      "cell_type": "code",
      "metadata": {
        "id": "UCnBfgUY-9it"
      },
      "source": [
        "Train = DataLoader(Train)\n",
        "Val = DataLoader(Val)"
      ],
      "execution_count": null,
      "outputs": []
    },
    {
      "cell_type": "code",
      "metadata": {
        "id": "IGqiHBU8_OZY"
      },
      "source": [
        "def FCN_VGG8():\n",
        "\n",
        "  Input = tf.keras.layers.Input(shape = [Img_Width,Img_Height,3])\n",
        "  Conv1 = tf.keras.layers.Conv2D(64,kernel_size=3,strides = 1,padding=\"same\",activation=\"relu\")(Input)\n",
        "  Conv2 = tf.keras.layers.Conv2D(64,kernel_size=3,strides = 1,padding=\"same\",activation=\"relu\")(Conv1)\n",
        "  Pool1 = tf.keras.layers.MaxPool2D(pool_size=2,strides=2)(Conv2)\n",
        "\n",
        "  Conv3 = tf.keras.layers.Conv2D(128,kernel_size=3,strides = 1,padding=\"same\",activation=\"relu\")(Pool1)\n",
        "  Conv4 = tf.keras.layers.Conv2D(128,kernel_size=3,strides = 1,padding=\"same\",activation=\"relu\")(Conv3)\n",
        "  Pool2 = tf.keras.layers.MaxPool2D(pool_size=2,strides=2)(Conv4)\n",
        "\n",
        "  Conv5 = tf.keras.layers.Conv2D(256,kernel_size=3,strides = 1,padding=\"same\",activation=\"relu\")(Pool2)\n",
        "  Conv6 = tf.keras.layers.Conv2D(256,kernel_size=3,strides = 1,padding=\"same\",activation=\"relu\")(Conv5)\n",
        "  Conv7 = tf.keras.layers.Conv2D(256,kernel_size=3,strides = 1,padding=\"same\",activation=\"relu\")(Conv6)\n",
        "  Pool3 = tf.keras.layers.MaxPool2D(pool_size=2,strides=2)(Conv7)\n",
        "\n",
        "  Conv8 = tf.keras.layers.Conv2D(512,kernel_size=3,strides = 1,padding=\"same\",activation=\"relu\")(Pool3)\n",
        "  Conv9 = tf.keras.layers.Conv2D(512,kernel_size=3,strides = 1,padding=\"same\",activation=\"relu\")(Conv8)\n",
        "  Conv10 = tf.keras.layers.Conv2D(512,kernel_size=3,strides = 1,padding=\"same\",activation=\"relu\")(Conv9)\n",
        "  Pool4 = tf.keras.layers.MaxPool2D(pool_size=2,strides=2)(Conv10)\n",
        "\n",
        "  Conv11 = tf.keras.layers.Conv2D(512,kernel_size=3,strides = 1,padding=\"same\",activation=\"relu\")(Pool4)\n",
        "  Conv12 = tf.keras.layers.Conv2D(512,kernel_size=3,strides = 1,padding=\"same\",activation=\"relu\")(Conv11)\n",
        "  Conv13 = tf.keras.layers.Conv2D(512,kernel_size=3,strides = 1,padding=\"same\",activation=\"relu\")(Conv12)\n",
        "  Pool5 = tf.keras.layers.MaxPool2D(pool_size=2,strides=2)(Conv13)\n",
        "\n",
        "  # Fully Convolutional Layer\n",
        "\n",
        "  FC_Layer = tf.keras.layers.Conv2D(4096,kernel_size=7,activation=\"relu\")(Pool5)\n",
        "  FC_Drop = tf.keras.layers.Dropout(rate=0.5)(FC_Layer)\n",
        "  FC_Layer2 = tf.keras.layers.Conv2D(4096,kernel_size=1,activation=\"relu\")(FC_Drop)\n",
        "  FC_Drop2 = tf.keras.layers.Dropout(rate=0.5)(FC_Layer2)\n",
        "\n",
        "  # Classification Score Layer\n",
        "  Score = tf.keras.layers.Conv2D(num_classes,kernel_size=1,activation=\"relu\")(FC_Drop2)\n",
        " \n",
        "\n",
        "  #Upsample Pool4\n",
        "\n",
        "  Upscore = tf.keras.layers.Conv2DTranspose(num_classes,kernel_size=4,strides=2,kernel_initializer=\"zeros\")(Score)\n",
        "  \n",
        "  Conv_Scale = tf.keras.layers.Conv2D(num_classes,kernel_size=1)(Pool4)\n",
        "  Cropped = tf.keras.layers.Cropping2D(cropping=(5,5))(Conv_Scale)\n",
        "\n",
        "  Fused = tf.keras.layers.add([Cropped,Upscore])\n",
        "  \n",
        "  Upsampled_Pool4 = tf.keras.layers.Conv2DTranspose(num_classes,kernel_size=4,strides=2,kernel_initializer=\"zeros\")(Fused)\n",
        "\n",
        "  \n",
        "  # Upsample Pool3\n",
        "\n",
        "  Conv_Scale2 = tf.keras.layers.Conv2D(num_classes,kernel_size=1)(Pool3)\n",
        "  Cropped2 = tf.keras.layers.Cropping2D(cropping=(9,9))(Conv_Scale2)\n",
        "  Fused2 = tf.keras.layers.add([Cropped2,Upsampled_Pool4])\n",
        "\n",
        "  Upsampled_Pool3 = tf.keras.layers.Conv2DTranspose(num_classes,kernel_size=128,strides=16,kernel_initializer=\"zeros\")(Fused2)\n",
        "\n",
        "  # Score per Pixel\n",
        "\n",
        "  Score = tf.keras.layers.Cropping2D(cropping=(24,24))(Upsampled_Pool3)\n",
        "  Score = tf.keras.layers.Softmax(dtype = \"float32\")(Score)\n",
        "\n",
        "  return tf.keras.Model(inputs = Input,outputs = Score)"
      ],
      "execution_count": null,
      "outputs": []
    },
    {
      "cell_type": "code",
      "metadata": {
        "id": "pG6D4CB9_TKl"
      },
      "source": [
        "model = FCN_VGG8()\n"
      ],
      "execution_count": null,
      "outputs": []
    },
    {
      "cell_type": "code",
      "metadata": {
        "id": "Xhnr6xXx_XI1",
        "colab": {
          "base_uri": "https://localhost:8080/"
        },
        "outputId": "1f52b09d-e47e-46b5-d868-a9383c21783a"
      },
      "source": [
        "model.summary()\n",
        "VGG16 = tf.keras.applications.vgg16.VGG16(weights='imagenet')\n",
        "VGG16.summary()\n"
      ],
      "execution_count": null,
      "outputs": [
        {
          "output_type": "stream",
          "text": [
            "Model: \"model\"\n",
            "__________________________________________________________________________________________________\n",
            "Layer (type)                    Output Shape         Param #     Connected to                     \n",
            "==================================================================================================\n",
            "input_1 (InputLayer)            [(None, 224, 224, 3) 0                                            \n",
            "__________________________________________________________________________________________________\n",
            "conv2d (Conv2D)                 (None, 224, 224, 64) 1792        input_1[0][0]                    \n",
            "__________________________________________________________________________________________________\n",
            "conv2d_1 (Conv2D)               (None, 224, 224, 64) 36928       conv2d[0][0]                     \n",
            "__________________________________________________________________________________________________\n",
            "max_pooling2d (MaxPooling2D)    (None, 112, 112, 64) 0           conv2d_1[0][0]                   \n",
            "__________________________________________________________________________________________________\n",
            "conv2d_2 (Conv2D)               (None, 112, 112, 128 73856       max_pooling2d[0][0]              \n",
            "__________________________________________________________________________________________________\n",
            "conv2d_3 (Conv2D)               (None, 112, 112, 128 147584      conv2d_2[0][0]                   \n",
            "__________________________________________________________________________________________________\n",
            "max_pooling2d_1 (MaxPooling2D)  (None, 56, 56, 128)  0           conv2d_3[0][0]                   \n",
            "__________________________________________________________________________________________________\n",
            "conv2d_4 (Conv2D)               (None, 56, 56, 256)  295168      max_pooling2d_1[0][0]            \n",
            "__________________________________________________________________________________________________\n",
            "conv2d_5 (Conv2D)               (None, 56, 56, 256)  590080      conv2d_4[0][0]                   \n",
            "__________________________________________________________________________________________________\n",
            "conv2d_6 (Conv2D)               (None, 56, 56, 256)  590080      conv2d_5[0][0]                   \n",
            "__________________________________________________________________________________________________\n",
            "max_pooling2d_2 (MaxPooling2D)  (None, 28, 28, 256)  0           conv2d_6[0][0]                   \n",
            "__________________________________________________________________________________________________\n",
            "conv2d_7 (Conv2D)               (None, 28, 28, 512)  1180160     max_pooling2d_2[0][0]            \n",
            "__________________________________________________________________________________________________\n",
            "conv2d_8 (Conv2D)               (None, 28, 28, 512)  2359808     conv2d_7[0][0]                   \n",
            "__________________________________________________________________________________________________\n",
            "conv2d_9 (Conv2D)               (None, 28, 28, 512)  2359808     conv2d_8[0][0]                   \n",
            "__________________________________________________________________________________________________\n",
            "max_pooling2d_3 (MaxPooling2D)  (None, 14, 14, 512)  0           conv2d_9[0][0]                   \n",
            "__________________________________________________________________________________________________\n",
            "conv2d_10 (Conv2D)              (None, 14, 14, 512)  2359808     max_pooling2d_3[0][0]            \n",
            "__________________________________________________________________________________________________\n",
            "conv2d_11 (Conv2D)              (None, 14, 14, 512)  2359808     conv2d_10[0][0]                  \n",
            "__________________________________________________________________________________________________\n",
            "conv2d_12 (Conv2D)              (None, 14, 14, 512)  2359808     conv2d_11[0][0]                  \n",
            "__________________________________________________________________________________________________\n",
            "max_pooling2d_4 (MaxPooling2D)  (None, 7, 7, 512)    0           conv2d_12[0][0]                  \n",
            "__________________________________________________________________________________________________\n",
            "conv2d_13 (Conv2D)              (None, 1, 1, 4096)   102764544   max_pooling2d_4[0][0]            \n",
            "__________________________________________________________________________________________________\n",
            "dropout (Dropout)               (None, 1, 1, 4096)   0           conv2d_13[0][0]                  \n",
            "__________________________________________________________________________________________________\n",
            "conv2d_14 (Conv2D)              (None, 1, 1, 4096)   16781312    dropout[0][0]                    \n",
            "__________________________________________________________________________________________________\n",
            "dropout_1 (Dropout)             (None, 1, 1, 4096)   0           conv2d_14[0][0]                  \n",
            "__________________________________________________________________________________________________\n",
            "conv2d_16 (Conv2D)              (None, 14, 14, 21)   10773       max_pooling2d_3[0][0]            \n",
            "__________________________________________________________________________________________________\n",
            "conv2d_15 (Conv2D)              (None, 1, 1, 21)     86037       dropout_1[0][0]                  \n",
            "__________________________________________________________________________________________________\n",
            "cropping2d (Cropping2D)         (None, 4, 4, 21)     0           conv2d_16[0][0]                  \n",
            "__________________________________________________________________________________________________\n",
            "conv2d_transpose (Conv2DTranspo (None, 4, 4, 21)     7077        conv2d_15[0][0]                  \n",
            "__________________________________________________________________________________________________\n",
            "conv2d_17 (Conv2D)              (None, 28, 28, 21)   5397        max_pooling2d_2[0][0]            \n",
            "__________________________________________________________________________________________________\n",
            "add (Add)                       (None, 4, 4, 21)     0           cropping2d[0][0]                 \n",
            "                                                                 conv2d_transpose[0][0]           \n",
            "__________________________________________________________________________________________________\n",
            "cropping2d_1 (Cropping2D)       (None, 10, 10, 21)   0           conv2d_17[0][0]                  \n",
            "__________________________________________________________________________________________________\n",
            "conv2d_transpose_1 (Conv2DTrans (None, 10, 10, 21)   7077        add[0][0]                        \n",
            "__________________________________________________________________________________________________\n",
            "add_1 (Add)                     (None, 10, 10, 21)   0           cropping2d_1[0][0]               \n",
            "                                                                 conv2d_transpose_1[0][0]         \n",
            "__________________________________________________________________________________________________\n",
            "conv2d_transpose_2 (Conv2DTrans (None, 272, 272, 21) 7225365     add_1[0][0]                      \n",
            "__________________________________________________________________________________________________\n",
            "cropping2d_2 (Cropping2D)       (None, 224, 224, 21) 0           conv2d_transpose_2[0][0]         \n",
            "__________________________________________________________________________________________________\n",
            "softmax (Softmax)               (None, 224, 224, 21) 0           cropping2d_2[0][0]               \n",
            "==================================================================================================\n",
            "Total params: 141,602,270\n",
            "Trainable params: 141,602,270\n",
            "Non-trainable params: 0\n",
            "__________________________________________________________________________________________________\n",
            "Model: \"vgg16\"\n",
            "_________________________________________________________________\n",
            "Layer (type)                 Output Shape              Param #   \n",
            "=================================================================\n",
            "input_3 (InputLayer)         [(None, 224, 224, 3)]     0         \n",
            "_________________________________________________________________\n",
            "block1_conv1 (Conv2D)        (None, 224, 224, 64)      1792      \n",
            "_________________________________________________________________\n",
            "block1_conv2 (Conv2D)        (None, 224, 224, 64)      36928     \n",
            "_________________________________________________________________\n",
            "block1_pool (MaxPooling2D)   (None, 112, 112, 64)      0         \n",
            "_________________________________________________________________\n",
            "block2_conv1 (Conv2D)        (None, 112, 112, 128)     73856     \n",
            "_________________________________________________________________\n",
            "block2_conv2 (Conv2D)        (None, 112, 112, 128)     147584    \n",
            "_________________________________________________________________\n",
            "block2_pool (MaxPooling2D)   (None, 56, 56, 128)       0         \n",
            "_________________________________________________________________\n",
            "block3_conv1 (Conv2D)        (None, 56, 56, 256)       295168    \n",
            "_________________________________________________________________\n",
            "block3_conv2 (Conv2D)        (None, 56, 56, 256)       590080    \n",
            "_________________________________________________________________\n",
            "block3_conv3 (Conv2D)        (None, 56, 56, 256)       590080    \n",
            "_________________________________________________________________\n",
            "block3_pool (MaxPooling2D)   (None, 28, 28, 256)       0         \n",
            "_________________________________________________________________\n",
            "block4_conv1 (Conv2D)        (None, 28, 28, 512)       1180160   \n",
            "_________________________________________________________________\n",
            "block4_conv2 (Conv2D)        (None, 28, 28, 512)       2359808   \n",
            "_________________________________________________________________\n",
            "block4_conv3 (Conv2D)        (None, 28, 28, 512)       2359808   \n",
            "_________________________________________________________________\n",
            "block4_pool (MaxPooling2D)   (None, 14, 14, 512)       0         \n",
            "_________________________________________________________________\n",
            "block5_conv1 (Conv2D)        (None, 14, 14, 512)       2359808   \n",
            "_________________________________________________________________\n",
            "block5_conv2 (Conv2D)        (None, 14, 14, 512)       2359808   \n",
            "_________________________________________________________________\n",
            "block5_conv3 (Conv2D)        (None, 14, 14, 512)       2359808   \n",
            "_________________________________________________________________\n",
            "block5_pool (MaxPooling2D)   (None, 7, 7, 512)         0         \n",
            "_________________________________________________________________\n",
            "flatten (Flatten)            (None, 25088)             0         \n",
            "_________________________________________________________________\n",
            "fc1 (Dense)                  (None, 4096)              102764544 \n",
            "_________________________________________________________________\n",
            "fc2 (Dense)                  (None, 4096)              16781312  \n",
            "_________________________________________________________________\n",
            "predictions (Dense)          (None, 1000)              4097000   \n",
            "=================================================================\n",
            "Total params: 138,357,544\n",
            "Trainable params: 138,357,544\n",
            "Non-trainable params: 0\n",
            "_________________________________________________________________\n"
          ],
          "name": "stdout"
        }
      ]
    },
    {
      "cell_type": "code",
      "metadata": {
        "id": "o-NgOQJ1_8Oc"
      },
      "source": [
        "for i in range(19):\n",
        "  model.layers[i].set_weights(VGG16.layers[i].get_weights())"
      ],
      "execution_count": null,
      "outputs": []
    },
    {
      "cell_type": "code",
      "metadata": {
        "id": "UWotGI4lB2VD"
      },
      "source": [
        "root_dir = os.path.join(os.curdir,\"my_logs\")\n",
        "\n",
        "def get_path():\n",
        "    import time\n",
        "    id_ = time.strftime(\"run_%Y_%m_%D_%H_%M_%S\")\n",
        "    return os.path.join(root_dir,id_)\n",
        "\n",
        "board_log_path = get_path()"
      ],
      "execution_count": null,
      "outputs": []
    },
    {
      "cell_type": "code",
      "metadata": {
        "id": "WupNzepiA7FB"
      },
      "source": [
        "for layers in model.layers[:19]:\n",
        "  layers.trainable = False"
      ],
      "execution_count": null,
      "outputs": []
    },
    {
      "cell_type": "code",
      "metadata": {
        "id": "esL0bTsWA_M_"
      },
      "source": [
        "EarlyStop = tf.keras.callbacks.EarlyStopping(patience = 10,restore_best_weights=True)\n",
        "checkpoint_path = os.path.join(os.curdir,\"checkpoint\")\n",
        "Checkpoint = tf.keras.callbacks.ModelCheckpoint(checkpoint_path,save_best_only=True)\n",
        "Tensorboard = tf.keras.callbacks.TensorBoard(board_log_path)\n",
        "\n",
        "MeanIou = tf.keras.metrics.MeanIoU(num_classes=21)"
      ],
      "execution_count": null,
      "outputs": []
    },
    {
      "cell_type": "code",
      "metadata": {
        "id": "uX_W28fMDjcG"
      },
      "source": [
        "gc.collect()\n",
        "gc.enable()"
      ],
      "execution_count": null,
      "outputs": []
    },
    {
      "cell_type": "code",
      "metadata": {
        "id": "yk61vIDhDj1E"
      },
      "source": [
        "tf.keras.backend.clear_session()\n",
        "model.compile(optimizer=tf.keras.optimizers.SGD(learning_rate=1e-4,momentum=0.9),loss=tf.keras.losses.categorical_crossentropy,metrics=[MeanIou])"
      ],
      "execution_count": null,
      "outputs": []
    },
    {
      "cell_type": "code",
      "metadata": {
        "id": "nS_osJUDDm0_",
        "colab": {
          "base_uri": "https://localhost:8080/"
        },
        "outputId": "445da1db-95c1-451c-8443-512e9fe51752"
      },
      "source": [
        "Epochs = 18\n",
        "Batchsize = 128\n",
        "\n",
        "history = model.fit(Train,validation_data=Val,batch_size=Batchsize,epochs=Epochs, callbacks=[EarlyStop,Checkpoint,Tensorboard])"
      ],
      "execution_count": null,
      "outputs": [
        {
          "output_type": "stream",
          "text": [
            "Epoch 1/18\n",
            "732/732 [==============================] - 188s 193ms/step - loss: 1.9739 - mean_io_u: 0.4774 - val_loss: 1.6299 - val_mean_io_u: 0.4775\n",
            "INFO:tensorflow:Assets written to: ./checkpoint/assets\n",
            "Epoch 2/18\n",
            "732/732 [==============================] - 106s 144ms/step - loss: 1.5752 - mean_io_u: 0.4774 - val_loss: 1.5568 - val_mean_io_u: 0.4775\n",
            "INFO:tensorflow:Assets written to: ./checkpoint/assets\n",
            "Epoch 3/18\n",
            "732/732 [==============================] - 105s 144ms/step - loss: 1.5156 - mean_io_u: 0.4774 - val_loss: 1.5125 - val_mean_io_u: 0.4775\n",
            "INFO:tensorflow:Assets written to: ./checkpoint/assets\n",
            "Epoch 4/18\n",
            "732/732 [==============================] - 105s 144ms/step - loss: 1.4727 - mean_io_u: 0.4774 - val_loss: 1.4812 - val_mean_io_u: 0.4775\n",
            "INFO:tensorflow:Assets written to: ./checkpoint/assets\n",
            "Epoch 5/18\n",
            "732/732 [==============================] - 105s 144ms/step - loss: 1.4392 - mean_io_u: 0.4774 - val_loss: 1.4620 - val_mean_io_u: 0.4775\n",
            "INFO:tensorflow:Assets written to: ./checkpoint/assets\n",
            "Epoch 6/18\n",
            "732/732 [==============================] - 106s 144ms/step - loss: 1.4112 - mean_io_u: 0.4774 - val_loss: 1.4569 - val_mean_io_u: 0.4775\n",
            "INFO:tensorflow:Assets written to: ./checkpoint/assets\n",
            "Epoch 7/18\n",
            "732/732 [==============================] - 105s 144ms/step - loss: 1.3895 - mean_io_u: 0.4774 - val_loss: 1.4296 - val_mean_io_u: 0.4775\n",
            "INFO:tensorflow:Assets written to: ./checkpoint/assets\n",
            "Epoch 8/18\n",
            "732/732 [==============================] - 106s 144ms/step - loss: 1.3709 - mean_io_u: 0.4774 - val_loss: 1.3925 - val_mean_io_u: 0.4775\n",
            "INFO:tensorflow:Assets written to: ./checkpoint/assets\n",
            "Epoch 9/18\n",
            "732/732 [==============================] - 105s 144ms/step - loss: 1.3632 - mean_io_u: 0.4774 - val_loss: 1.3937 - val_mean_io_u: 0.4775\n",
            "Epoch 10/18\n",
            "732/732 [==============================] - 105s 144ms/step - loss: 1.3652 - mean_io_u: 0.4774 - val_loss: 1.3689 - val_mean_io_u: 0.4775\n",
            "INFO:tensorflow:Assets written to: ./checkpoint/assets\n",
            "Epoch 11/18\n",
            "732/732 [==============================] - 106s 144ms/step - loss: 1.3900 - mean_io_u: 0.4774 - val_loss: 1.4315 - val_mean_io_u: 0.4775\n",
            "Epoch 12/18\n",
            "732/732 [==============================] - 105s 144ms/step - loss: 1.4402 - mean_io_u: 0.4774 - val_loss: 1.4895 - val_mean_io_u: 0.4775\n",
            "Epoch 13/18\n",
            "732/732 [==============================] - 105s 144ms/step - loss: 1.5884 - mean_io_u: 0.4774 - val_loss: 1.6595 - val_mean_io_u: 0.4775\n",
            "Epoch 14/18\n",
            "732/732 [==============================] - 105s 144ms/step - loss: 1.8471 - mean_io_u: 0.4774 - val_loss: 2.3188 - val_mean_io_u: 0.4775\n",
            "Epoch 15/18\n",
            "732/732 [==============================] - 105s 144ms/step - loss: 2.3366 - mean_io_u: 0.4774 - val_loss: 2.9640 - val_mean_io_u: 0.4776\n",
            "Epoch 16/18\n",
            "732/732 [==============================] - 105s 144ms/step - loss: 3.5531 - mean_io_u: 0.4786 - val_loss: 4.3582 - val_mean_io_u: 0.4794\n",
            "Epoch 17/18\n",
            "732/732 [==============================] - 105s 144ms/step - loss: 5.4993 - mean_io_u: 0.4838 - val_loss: 6.7886 - val_mean_io_u: 0.4970\n",
            "Epoch 18/18\n",
            "732/732 [==============================] - 106s 144ms/step - loss: 8.9615 - mean_io_u: 0.4997 - val_loss: 12.5293 - val_mean_io_u: 0.5633\n"
          ],
          "name": "stdout"
        }
      ]
    },
    {
      "cell_type": "code",
      "metadata": {
        "id": "rCgWK95dGhup"
      },
      "source": [
        ""
      ],
      "execution_count": null,
      "outputs": []
    }
  ]
}