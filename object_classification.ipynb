{
  "nbformat": 4,
  "nbformat_minor": 0,
  "metadata": {
    "colab": {
      "name": "object_classification.ipynb",
      "provenance": [],
      "collapsed_sections": [],
      "authorship_tag": "ABX9TyPYn8JhlC56uecxMZTsDT0W",
      "include_colab_link": true
    },
    "kernelspec": {
      "name": "python3",
      "display_name": "Python 3"
    },
    "language_info": {
      "name": "python"
    },
    "accelerator": "GPU"
  },
  "cells": [
    {
      "cell_type": "markdown",
      "metadata": {
        "id": "view-in-github",
        "colab_type": "text"
      },
      "source": [
        "<a href=\"https://colab.research.google.com/github/nigamsatvik/major2/blob/main/object_classification.ipynb\" target=\"_parent\"><img src=\"https://colab.research.google.com/assets/colab-badge.svg\" alt=\"Open In Colab\"/></a>"
      ]
    },
    {
      "cell_type": "code",
      "metadata": {
        "id": "qQLQHjXUkpEZ"
      },
      "source": [
        "import numpy as np\n",
        "import matplotlib.pyplot as plt\n",
        "import keras\n",
        "from keras import layers\n",
        "from keras import models\n",
        "from keras import optimizers\n",
        "from keras.layers import Dense, Input, Dropout, GlobalAveragePooling2D, Flatten, Conv2D, BatchNormalization, Activation, MaxPooling2D\n",
        "from keras.models import Model, Sequential\n",
        "from keras.callbacks import ModelCheckpoint\n",
        "from keras.optimizers import Adam\n",
        "from keras.preprocessing.image import load_img, img_to_array\n",
        "from keras.preprocessing.image import ImageDataGenerator\n",
        "import os\n"
      ],
      "execution_count": null,
      "outputs": []
    },
    {
      "cell_type": "code",
      "metadata": {
        "colab": {
          "base_uri": "https://localhost:8080/"
        },
        "id": "8puO8PaNlEIl",
        "outputId": "ea6e406b-4f75-4556-99df-1fb67fba4060"
      },
      "source": [
        "from google.colab import drive\n",
        "drive.mount('/content/gdrive')\n",
        "!cp -r /content/gdrive/MyDrive/dataset  /home/final_dataset"
      ],
      "execution_count": null,
      "outputs": [
        {
          "output_type": "stream",
          "text": [
            "Mounted at /content/gdrive\n"
          ],
          "name": "stdout"
        }
      ]
    },
    {
      "cell_type": "markdown",
      "metadata": {
        "id": "bApxcLbilHKJ"
      },
      "source": [
        "***SIZE OF DATASET***\n",
        "\n",
        "\n",
        "\n"
      ]
    },
    {
      "cell_type": "code",
      "metadata": {
        "colab": {
          "base_uri": "https://localhost:8080/"
        },
        "id": "wIF3WYBslRLi",
        "outputId": "2aa31dbb-7b10-4416-c0f6-cd8011ceb0bf"
      },
      "source": [
        "xclass=[\"airplane\",\"bed\",\"car\",\"cat\",\"chair\",\"dog\",\"flower\",\"fruit\",\"motorbike\",\"person\"]\n",
        "base_path=\"/home/final_dataset/dataset/\"\n",
        "for xclass in os.listdir(base_path):\n",
        "    print(str(len(os.listdir(base_path + xclass))) + \" \" + xclass + \" images\")"
      ],
      "execution_count": null,
      "outputs": [
        {
          "output_type": "stream",
          "text": [
            "986 person images\n",
            "968 car images\n",
            "843 flower images\n",
            "1000 fruit images\n",
            "788 motorbike images\n",
            "900 bed images\n",
            "702 dog images\n",
            "900 chair images\n",
            "727 airplane images\n",
            "885 cat images\n"
          ],
          "name": "stdout"
        }
      ]
    },
    {
      "cell_type": "code",
      "metadata": {
        "colab": {
          "base_uri": "https://localhost:8080/"
        },
        "id": "zjd7BIhXpKsp",
        "outputId": "e2a39a8e-886c-4bdf-bd9a-3e452a86677a"
      },
      "source": [
        "pic_size=128\n",
        "generator=ImageDataGenerator(validation_split=0.2)\n",
        "train_generator=generator.flow_from_directory(base_path,target_size=(pic_size,pic_size),color_mode=\"rgb\",batch_size=128,class_mode='categorical',shuffle=True,subset='training')\n",
        "test_generator=generator.flow_from_directory(base_path,target_size=(pic_size,pic_size),color_mode=\"rgb\",batch_size=128,class_mode='categorical',shuffle=True,subset='validation')\n"
      ],
      "execution_count": null,
      "outputs": [
        {
          "output_type": "stream",
          "text": [
            "Found 6962 images belonging to 10 classes.\n",
            "Found 1737 images belonging to 10 classes.\n"
          ],
          "name": "stdout"
        }
      ]
    },
    {
      "cell_type": "code",
      "metadata": {
        "colab": {
          "base_uri": "https://localhost:8080/"
        },
        "id": "HQ8NMATnsSt1",
        "outputId": "f41e735c-007b-45a1-e82e-54e96f9dfdac"
      },
      "source": [
        "classes=10\n",
        "model=Sequential()\n",
        "#input/convolution layer\n",
        "model.add(Conv2D(64,(3,3),padding='same',strides=(1,1),activation='relu',input_shape=(128,128,3)))\n",
        "model.add(BatchNormalization())\n",
        "model.add(MaxPooling2D(pool_size=(2,2)))\n",
        "#convolution layer\n",
        "model.add(Conv2D(128,(3,3),strides=(1,1),padding='same',activation='relu'))\n",
        "model.add(BatchNormalization())\n",
        "model.add(MaxPooling2D(pool_size=(2,2)))\n",
        "model.add(Dropout(0.25))\n",
        "#convolution layer\n",
        "model.add(Conv2D(512,(3,3),strides=(1,1),padding='same',activation='relu'))\n",
        "model.add(BatchNormalization())\n",
        "model.add(MaxPooling2D(pool_size=(2,2)))\n",
        "#convolution layer\n",
        "model.add(Conv2D(512,(3,3),strides=(1,1),padding='same',activation='relu'))\n",
        "model.add(BatchNormalization())\n",
        "model.add(MaxPooling2D(pool_size=(2,2)))\n",
        "# flatten\n",
        "model.add(Flatten())\n",
        "#hidden layer 1\n",
        "model.add(Dense(256,activation='relu'))\n",
        "model.add(BatchNormalization())\n",
        "#hidden layer 2\n",
        "model.add(Dense(512,activation='relu'))\n",
        "model.add(BatchNormalization())\n",
        "model.add(Dropout(0.25))\n",
        "#hidden layer 3\n",
        "model.add(Dense(1024,activation='relu'))\n",
        "model.add(BatchNormalization())\n",
        "#output layer\n",
        "model.add(Dense(10,activation='softmax'))\n",
        "model.compile(optimizer='Adam',loss='categorical_crossentropy',metrics=['accuracy'])\n",
        "epochs = 50\n",
        "model.summary()\n",
        "checkpoint = ModelCheckpoint(\"model_weights.h5\", monitor='val_accuracy', verbose=1, save_best_only=True, mode='max')\n",
        "callbacks_list = [checkpoint]\n",
        "history=model.fit_generator(generator=train_generator,steps_per_epoch=train_generator.n//train_generator.batch_size,epochs=50,validation_data=test_generator,validation_steps=test_generator.n//test_generator.batch_size,callbacks=callbacks_list)"
      ],
      "execution_count": null,
      "outputs": [
        {
          "output_type": "stream",
          "text": [
            "Model: \"sequential\"\n",
            "_________________________________________________________________\n",
            "Layer (type)                 Output Shape              Param #   \n",
            "=================================================================\n",
            "conv2d (Conv2D)              (None, 128, 128, 64)      1792      \n",
            "_________________________________________________________________\n",
            "batch_normalization (BatchNo (None, 128, 128, 64)      256       \n",
            "_________________________________________________________________\n",
            "max_pooling2d (MaxPooling2D) (None, 64, 64, 64)        0         \n",
            "_________________________________________________________________\n",
            "conv2d_1 (Conv2D)            (None, 64, 64, 128)       73856     \n",
            "_________________________________________________________________\n",
            "batch_normalization_1 (Batch (None, 64, 64, 128)       512       \n",
            "_________________________________________________________________\n",
            "max_pooling2d_1 (MaxPooling2 (None, 32, 32, 128)       0         \n",
            "_________________________________________________________________\n",
            "dropout (Dropout)            (None, 32, 32, 128)       0         \n",
            "_________________________________________________________________\n",
            "conv2d_2 (Conv2D)            (None, 32, 32, 512)       590336    \n",
            "_________________________________________________________________\n",
            "batch_normalization_2 (Batch (None, 32, 32, 512)       2048      \n",
            "_________________________________________________________________\n",
            "max_pooling2d_2 (MaxPooling2 (None, 16, 16, 512)       0         \n",
            "_________________________________________________________________\n",
            "conv2d_3 (Conv2D)            (None, 16, 16, 512)       2359808   \n",
            "_________________________________________________________________\n",
            "batch_normalization_3 (Batch (None, 16, 16, 512)       2048      \n",
            "_________________________________________________________________\n",
            "max_pooling2d_3 (MaxPooling2 (None, 8, 8, 512)         0         \n",
            "_________________________________________________________________\n",
            "flatten (Flatten)            (None, 32768)             0         \n",
            "_________________________________________________________________\n",
            "dense (Dense)                (None, 256)               8388864   \n",
            "_________________________________________________________________\n",
            "batch_normalization_4 (Batch (None, 256)               1024      \n",
            "_________________________________________________________________\n",
            "dense_1 (Dense)              (None, 512)               131584    \n",
            "_________________________________________________________________\n",
            "batch_normalization_5 (Batch (None, 512)               2048      \n",
            "_________________________________________________________________\n",
            "dropout_1 (Dropout)          (None, 512)               0         \n",
            "_________________________________________________________________\n",
            "dense_2 (Dense)              (None, 1024)              525312    \n",
            "_________________________________________________________________\n",
            "batch_normalization_6 (Batch (None, 1024)              4096      \n",
            "_________________________________________________________________\n",
            "dense_3 (Dense)              (None, 10)                10250     \n",
            "=================================================================\n",
            "Total params: 12,093,834\n",
            "Trainable params: 12,087,818\n",
            "Non-trainable params: 6,016\n",
            "_________________________________________________________________\n"
          ],
          "name": "stdout"
        },
        {
          "output_type": "stream",
          "text": [
            "/usr/local/lib/python3.7/dist-packages/tensorflow/python/keras/engine/training.py:1844: UserWarning: `Model.fit_generator` is deprecated and will be removed in a future version. Please use `Model.fit`, which supports generators.\n",
            "  warnings.warn('`Model.fit_generator` is deprecated and '\n"
          ],
          "name": "stderr"
        },
        {
          "output_type": "stream",
          "text": [
            "Epoch 1/50\n",
            "54/54 [==============================] - 68s 556ms/step - loss: 1.3279 - accuracy: 0.5911 - val_loss: 5.7320 - val_accuracy: 0.1941\n",
            "\n",
            "Epoch 00001: val_accuracy improved from -inf to 0.19411, saving model to model_weights.h5\n",
            "Epoch 2/50\n",
            "54/54 [==============================] - 26s 479ms/step - loss: 0.3546 - accuracy: 0.8773 - val_loss: 1.1381 - val_accuracy: 0.6286\n",
            "\n",
            "Epoch 00002: val_accuracy improved from 0.19411 to 0.62861, saving model to model_weights.h5\n",
            "Epoch 3/50\n",
            "54/54 [==============================] - 26s 481ms/step - loss: 0.2548 - accuracy: 0.9079 - val_loss: 0.5857 - val_accuracy: 0.8125\n",
            "\n",
            "Epoch 00003: val_accuracy improved from 0.62861 to 0.81250, saving model to model_weights.h5\n",
            "Epoch 4/50\n",
            "54/54 [==============================] - 26s 483ms/step - loss: 0.1274 - accuracy: 0.9564 - val_loss: 0.4354 - val_accuracy: 0.8642\n",
            "\n",
            "Epoch 00004: val_accuracy improved from 0.81250 to 0.86418, saving model to model_weights.h5\n",
            "Epoch 5/50\n",
            "54/54 [==============================] - 26s 484ms/step - loss: 0.0854 - accuracy: 0.9732 - val_loss: 0.6905 - val_accuracy: 0.8161\n",
            "\n",
            "Epoch 00005: val_accuracy did not improve from 0.86418\n",
            "Epoch 6/50\n",
            "54/54 [==============================] - 26s 487ms/step - loss: 0.0800 - accuracy: 0.9756 - val_loss: 0.8983 - val_accuracy: 0.7873\n",
            "\n",
            "Epoch 00006: val_accuracy did not improve from 0.86418\n",
            "Epoch 7/50\n",
            "54/54 [==============================] - 26s 483ms/step - loss: 0.0586 - accuracy: 0.9807 - val_loss: 0.7206 - val_accuracy: 0.8179\n",
            "\n",
            "Epoch 00007: val_accuracy did not improve from 0.86418\n",
            "Epoch 8/50\n",
            "54/54 [==============================] - 26s 482ms/step - loss: 0.0580 - accuracy: 0.9793 - val_loss: 0.5450 - val_accuracy: 0.8720\n",
            "\n",
            "Epoch 00008: val_accuracy improved from 0.86418 to 0.87200, saving model to model_weights.h5\n",
            "Epoch 9/50\n",
            "54/54 [==============================] - 26s 482ms/step - loss: 0.0298 - accuracy: 0.9892 - val_loss: 0.3438 - val_accuracy: 0.9105\n",
            "\n",
            "Epoch 00009: val_accuracy improved from 0.87200 to 0.91046, saving model to model_weights.h5\n",
            "Epoch 10/50\n",
            "54/54 [==============================] - 26s 482ms/step - loss: 0.0196 - accuracy: 0.9929 - val_loss: 0.5090 - val_accuracy: 0.8870\n",
            "\n",
            "Epoch 00010: val_accuracy did not improve from 0.91046\n",
            "Epoch 11/50\n",
            "54/54 [==============================] - 26s 487ms/step - loss: 0.0221 - accuracy: 0.9921 - val_loss: 0.9417 - val_accuracy: 0.8053\n",
            "\n",
            "Epoch 00011: val_accuracy did not improve from 0.91046\n",
            "Epoch 12/50\n",
            "54/54 [==============================] - 26s 482ms/step - loss: 0.0407 - accuracy: 0.9873 - val_loss: 1.3556 - val_accuracy: 0.7566\n",
            "\n",
            "Epoch 00012: val_accuracy did not improve from 0.91046\n",
            "Epoch 13/50\n",
            "54/54 [==============================] - 26s 478ms/step - loss: 0.0493 - accuracy: 0.9843 - val_loss: 0.9739 - val_accuracy: 0.8383\n",
            "\n",
            "Epoch 00013: val_accuracy did not improve from 0.91046\n",
            "Epoch 14/50\n",
            "54/54 [==============================] - 26s 481ms/step - loss: 0.0443 - accuracy: 0.9866 - val_loss: 0.9903 - val_accuracy: 0.8131\n",
            "\n",
            "Epoch 00014: val_accuracy did not improve from 0.91046\n",
            "Epoch 15/50\n",
            "54/54 [==============================] - 26s 482ms/step - loss: 0.0094 - accuracy: 0.9981 - val_loss: 1.7653 - val_accuracy: 0.7109\n",
            "\n",
            "Epoch 00015: val_accuracy did not improve from 0.91046\n",
            "Epoch 16/50\n",
            "54/54 [==============================] - 26s 480ms/step - loss: 0.0098 - accuracy: 0.9963 - val_loss: 0.4494 - val_accuracy: 0.9032\n",
            "\n",
            "Epoch 00016: val_accuracy did not improve from 0.91046\n",
            "Epoch 17/50\n",
            "54/54 [==============================] - 26s 480ms/step - loss: 0.0120 - accuracy: 0.9952 - val_loss: 0.6365 - val_accuracy: 0.8798\n",
            "\n",
            "Epoch 00017: val_accuracy did not improve from 0.91046\n",
            "Epoch 18/50\n",
            "54/54 [==============================] - 26s 478ms/step - loss: 0.0150 - accuracy: 0.9952 - val_loss: 0.8988 - val_accuracy: 0.8450\n",
            "\n",
            "Epoch 00018: val_accuracy did not improve from 0.91046\n",
            "Epoch 19/50\n",
            "54/54 [==============================] - 26s 478ms/step - loss: 0.0327 - accuracy: 0.9903 - val_loss: 1.0273 - val_accuracy: 0.8221\n",
            "\n",
            "Epoch 00019: val_accuracy did not improve from 0.91046\n",
            "Epoch 20/50\n",
            "54/54 [==============================] - 26s 477ms/step - loss: 0.0302 - accuracy: 0.9890 - val_loss: 0.5685 - val_accuracy: 0.8912\n",
            "\n",
            "Epoch 00020: val_accuracy did not improve from 0.91046\n",
            "Epoch 21/50\n",
            "54/54 [==============================] - 26s 480ms/step - loss: 0.0218 - accuracy: 0.9915 - val_loss: 0.5339 - val_accuracy: 0.9062\n",
            "\n",
            "Epoch 00021: val_accuracy did not improve from 0.91046\n",
            "Epoch 22/50\n",
            "54/54 [==============================] - 26s 485ms/step - loss: 0.0086 - accuracy: 0.9978 - val_loss: 0.4156 - val_accuracy: 0.9123\n",
            "\n",
            "Epoch 00022: val_accuracy improved from 0.91046 to 0.91226, saving model to model_weights.h5\n",
            "Epoch 23/50\n",
            "54/54 [==============================] - 26s 480ms/step - loss: 0.0044 - accuracy: 0.9987 - val_loss: 0.4667 - val_accuracy: 0.9056\n",
            "\n",
            "Epoch 00023: val_accuracy did not improve from 0.91226\n",
            "Epoch 24/50\n",
            "54/54 [==============================] - 26s 479ms/step - loss: 0.0058 - accuracy: 0.9983 - val_loss: 0.4424 - val_accuracy: 0.9135\n",
            "\n",
            "Epoch 00024: val_accuracy improved from 0.91226 to 0.91346, saving model to model_weights.h5\n",
            "Epoch 25/50\n",
            "54/54 [==============================] - 26s 482ms/step - loss: 0.0041 - accuracy: 0.9984 - val_loss: 0.5437 - val_accuracy: 0.8990\n",
            "\n",
            "Epoch 00025: val_accuracy did not improve from 0.91346\n",
            "Epoch 26/50\n",
            "54/54 [==============================] - 26s 482ms/step - loss: 0.0041 - accuracy: 0.9985 - val_loss: 0.4237 - val_accuracy: 0.9081\n",
            "\n",
            "Epoch 00026: val_accuracy did not improve from 0.91346\n",
            "Epoch 27/50\n",
            "54/54 [==============================] - 26s 479ms/step - loss: 0.0032 - accuracy: 0.9988 - val_loss: 1.5336 - val_accuracy: 0.7512\n",
            "\n",
            "Epoch 00027: val_accuracy did not improve from 0.91346\n",
            "Epoch 28/50\n",
            "54/54 [==============================] - 26s 479ms/step - loss: 0.0195 - accuracy: 0.9933 - val_loss: 1.8859 - val_accuracy: 0.7266\n",
            "\n",
            "Epoch 00028: val_accuracy did not improve from 0.91346\n",
            "Epoch 29/50\n",
            "54/54 [==============================] - 26s 480ms/step - loss: 0.0273 - accuracy: 0.9910 - val_loss: 1.9409 - val_accuracy: 0.7296\n",
            "\n",
            "Epoch 00029: val_accuracy did not improve from 0.91346\n",
            "Epoch 30/50\n",
            "54/54 [==============================] - 26s 482ms/step - loss: 0.0275 - accuracy: 0.9912 - val_loss: 0.8138 - val_accuracy: 0.8606\n",
            "\n",
            "Epoch 00030: val_accuracy did not improve from 0.91346\n",
            "Epoch 31/50\n",
            "54/54 [==============================] - 26s 476ms/step - loss: 0.0245 - accuracy: 0.9910 - val_loss: 0.9611 - val_accuracy: 0.8299\n",
            "\n",
            "Epoch 00031: val_accuracy did not improve from 0.91346\n",
            "Epoch 32/50\n",
            "54/54 [==============================] - 26s 480ms/step - loss: 0.0500 - accuracy: 0.9836 - val_loss: 1.9603 - val_accuracy: 0.7596\n",
            "\n",
            "Epoch 00032: val_accuracy did not improve from 0.91346\n",
            "Epoch 33/50\n",
            "54/54 [==============================] - 26s 477ms/step - loss: 0.0430 - accuracy: 0.9877 - val_loss: 0.5942 - val_accuracy: 0.8816\n",
            "\n",
            "Epoch 00033: val_accuracy did not improve from 0.91346\n",
            "Epoch 34/50\n",
            "54/54 [==============================] - 26s 479ms/step - loss: 0.0172 - accuracy: 0.9938 - val_loss: 0.4510 - val_accuracy: 0.9117\n",
            "\n",
            "Epoch 00034: val_accuracy did not improve from 0.91346\n",
            "Epoch 35/50\n",
            "54/54 [==============================] - 26s 480ms/step - loss: 0.0114 - accuracy: 0.9969 - val_loss: 0.6161 - val_accuracy: 0.8930\n",
            "\n",
            "Epoch 00035: val_accuracy did not improve from 0.91346\n",
            "Epoch 36/50\n",
            "54/54 [==============================] - 26s 480ms/step - loss: 0.0155 - accuracy: 0.9970 - val_loss: 1.0120 - val_accuracy: 0.8287\n",
            "\n",
            "Epoch 00036: val_accuracy did not improve from 0.91346\n",
            "Epoch 37/50\n",
            "54/54 [==============================] - 26s 482ms/step - loss: 0.0020 - accuracy: 0.9992 - val_loss: 0.2882 - val_accuracy: 0.9369\n",
            "\n",
            "Epoch 00037: val_accuracy improved from 0.91346 to 0.93690, saving model to model_weights.h5\n",
            "Epoch 38/50\n",
            "54/54 [==============================] - 26s 478ms/step - loss: 0.0024 - accuracy: 0.9990 - val_loss: 0.3168 - val_accuracy: 0.9357\n",
            "\n",
            "Epoch 00038: val_accuracy did not improve from 0.93690\n",
            "Epoch 39/50\n",
            "54/54 [==============================] - 26s 479ms/step - loss: 9.2550e-04 - accuracy: 1.0000 - val_loss: 0.2886 - val_accuracy: 0.9375\n",
            "\n",
            "Epoch 00039: val_accuracy improved from 0.93690 to 0.93750, saving model to model_weights.h5\n",
            "Epoch 40/50\n",
            "54/54 [==============================] - 26s 481ms/step - loss: 0.0013 - accuracy: 0.9996 - val_loss: 0.3162 - val_accuracy: 0.9357\n",
            "\n",
            "Epoch 00040: val_accuracy did not improve from 0.93750\n",
            "Epoch 41/50\n",
            "54/54 [==============================] - 26s 479ms/step - loss: 0.0019 - accuracy: 0.9992 - val_loss: 0.8068 - val_accuracy: 0.8600\n",
            "\n",
            "Epoch 00041: val_accuracy did not improve from 0.93750\n",
            "Epoch 42/50\n",
            "54/54 [==============================] - 26s 481ms/step - loss: 0.0013 - accuracy: 0.9993 - val_loss: 0.3253 - val_accuracy: 0.9327\n",
            "\n",
            "Epoch 00042: val_accuracy did not improve from 0.93750\n",
            "Epoch 43/50\n",
            "54/54 [==============================] - 26s 481ms/step - loss: 8.1439e-04 - accuracy: 0.9998 - val_loss: 0.2807 - val_accuracy: 0.9447\n",
            "\n",
            "Epoch 00043: val_accuracy improved from 0.93750 to 0.94471, saving model to model_weights.h5\n",
            "Epoch 44/50\n",
            "54/54 [==============================] - 26s 489ms/step - loss: 4.2070e-04 - accuracy: 1.0000 - val_loss: 0.2662 - val_accuracy: 0.9459\n",
            "\n",
            "Epoch 00044: val_accuracy improved from 0.94471 to 0.94591, saving model to model_weights.h5\n",
            "Epoch 45/50\n",
            "54/54 [==============================] - 26s 482ms/step - loss: 2.3099e-04 - accuracy: 1.0000 - val_loss: 0.2684 - val_accuracy: 0.9495\n",
            "\n",
            "Epoch 00045: val_accuracy improved from 0.94591 to 0.94952, saving model to model_weights.h5\n",
            "Epoch 46/50\n",
            "54/54 [==============================] - 26s 480ms/step - loss: 5.9505e-04 - accuracy: 1.0000 - val_loss: 0.2834 - val_accuracy: 0.9459\n",
            "\n",
            "Epoch 00046: val_accuracy did not improve from 0.94952\n",
            "Epoch 47/50\n",
            "54/54 [==============================] - 26s 480ms/step - loss: 6.4036e-05 - accuracy: 1.0000 - val_loss: 0.2904 - val_accuracy: 0.9441\n",
            "\n",
            "Epoch 00047: val_accuracy did not improve from 0.94952\n",
            "Epoch 48/50\n",
            "54/54 [==============================] - 26s 481ms/step - loss: 5.8337e-05 - accuracy: 1.0000 - val_loss: 0.2847 - val_accuracy: 0.9441\n",
            "\n",
            "Epoch 00048: val_accuracy did not improve from 0.94952\n",
            "Epoch 49/50\n",
            "54/54 [==============================] - 26s 482ms/step - loss: 9.9741e-05 - accuracy: 1.0000 - val_loss: 0.2750 - val_accuracy: 0.9477\n",
            "\n",
            "Epoch 00049: val_accuracy did not improve from 0.94952\n",
            "Epoch 50/50\n",
            "54/54 [==============================] - 26s 478ms/step - loss: 2.4565e-05 - accuracy: 1.0000 - val_loss: 0.2399 - val_accuracy: 0.9513\n",
            "\n",
            "Epoch 00050: val_accuracy improved from 0.94952 to 0.95132, saving model to model_weights.h5\n"
          ],
          "name": "stdout"
        }
      ]
    },
    {
      "cell_type": "code",
      "metadata": {
        "colab": {
          "base_uri": "https://localhost:8080/"
        },
        "id": "AnW2981iQPqi",
        "outputId": "7080f4f4-7c6b-414f-a1cd-e767d742d9b0"
      },
      "source": [
        "accur=(np.mean(history.history['val_accuracy']))*100\n",
        "ac=\"{0:.2f}\".format(accur)\n",
        "print(\"The accuracy of trained model is\",ac)"
      ],
      "execution_count": null,
      "outputs": [
        {
          "output_type": "stream",
          "text": [
            "The accuracy of trained model is 85.17\n"
          ],
          "name": "stdout"
        }
      ]
    }
  ]
}